{
  "nbformat": 4,
  "nbformat_minor": 0,
  "metadata": {
    "colab": {
      "provenance": []
    },
    "kernelspec": {
      "name": "python3",
      "display_name": "Python 3"
    },
    "language_info": {
      "name": "python"
    }
  },
  "cells": [
    {
      "cell_type": "code",
      "execution_count": null,
      "metadata": {
        "id": "flNBUe1zdlFG"
      },
      "outputs": [],
      "source": [
        "import requests\n",
        "import pprint\n",
        "pp = pprint.PrettyPrinter(indent=4)\n",
        "import pandas as pd\n",
        "\n",
        "from google_maps_api.config import MY_API_KEY"
      ]
    },
    {
      "cell_type": "markdown",
      "source": [
        "## Collect data with the API wrapper"
      ],
      "metadata": {
        "id": "YKC8dtWMgiLG"
      }
    },
    {
      "cell_type": "code",
      "source": [
        "import google_maps_restar._apis.google_maps_api.google_maps_api as gm"
      ],
      "metadata": {
        "id": "OZqkWOdF6o21"
      },
      "execution_count": null,
      "outputs": []
    },
    {
      "cell_type": "markdown",
      "source": [
        "### API request to get place_id, which will be used in API call to get reviews"
      ],
      "metadata": {
        "id": "hQed5FLp7tgB"
      }
    },
    {
      "cell_type": "code",
      "source": [
        "response = gm.find_place_from_text(MY_API_KEY, 'Bangia')"
      ],
      "metadata": {
        "colab": {
          "base_uri": "https://localhost:8080/"
        },
        "id": "DcinQnxv7sse",
        "outputId": "15482c9a-5f4e-4990-a8a0-ee73e1f21447"
      },
      "execution_count": null,
      "outputs": [
        {
          "output_type": "stream",
          "name": "stdout",
          "text": [
            "Response status code: 200\n"
          ]
        }
      ]
    },
    {
      "cell_type": "code",
      "source": [
        "pp.pprint(response)"
      ],
      "metadata": {
        "colab": {
          "base_uri": "https://localhost:8080/"
        },
        "id": "PKIEMM8F7svT",
        "outputId": "933337ec-c6ff-406b-c775-279f4438acde"
      },
      "execution_count": null,
      "outputs": [
        {
          "output_type": "stream",
          "name": "stdout",
          "text": [
            "{   'candidates': [   {   'formatted_address': 'lower level, 11 E 32nd St, New '\n",
            "                                               'York, NY 10016, United States',\n",
            "                          'name': 'BANGIA',\n",
            "                          'place_id': 'ChIJyRH1QKhZwokRHD-zOFWVuuc',\n",
            "                          'rating': 4.4}],\n",
            "    'status': 'OK'}\n"
          ]
        }
      ]
    },
    {
      "cell_type": "code",
      "source": [
        "place_id = response['candidates'][0]['place_id']\n",
        "print(place_id)"
      ],
      "metadata": {
        "colab": {
          "base_uri": "https://localhost:8080/"
        },
        "id": "XoEB-5Mr7sxf",
        "outputId": "b1516ad1-154a-40da-ea9f-3bcf58c5ce81"
      },
      "execution_count": null,
      "outputs": [
        {
          "output_type": "stream",
          "name": "stdout",
          "text": [
            "ChIJyRH1QKhZwokRHD-zOFWVuuc\n"
          ]
        }
      ]
    },
    {
      "cell_type": "markdown",
      "source": [
        "### API request using place_id to get reviews"
      ],
      "metadata": {
        "id": "r6N7Zr4m6MLZ"
      }
    },
    {
      "cell_type": "code",
      "source": [
        "response = gm.place_details(MY_API_KEY, place_id)"
      ],
      "metadata": {
        "colab": {
          "base_uri": "https://localhost:8080/"
        },
        "outputId": "cb9b020a-fc23-42fa-dbda-1b2f3b7a027f",
        "id": "s1NcUS8r6MLZ"
      },
      "execution_count": null,
      "outputs": [
        {
          "output_type": "stream",
          "name": "stdout",
          "text": [
            "Response status code: 200\n"
          ]
        }
      ]
    },
    {
      "cell_type": "code",
      "source": [
        "pp.pprint(response)"
      ],
      "metadata": {
        "colab": {
          "base_uri": "https://localhost:8080/"
        },
        "outputId": "897a12a2-af8b-45e1-ee3b-fd751b0fe18e",
        "id": "SN9JlCLt6MLZ"
      },
      "execution_count": null,
      "outputs": [
        {
          "output_type": "stream",
          "name": "stdout",
          "text": [
            "{   'html_attributions': [],\n",
            "    'result': {   'reviews': [   {   'author_name': 'Oliver Osei-Asibey '\n",
            "                                                    '(Oliver O.A.)',\n",
            "                                     'author_url': 'https://www.google.com/maps/contrib/111863978551838354937/reviews',\n",
            "                                     'language': 'en',\n",
            "                                     'original_language': 'en',\n",
            "                                     'profile_photo_url': 'https://lh3.googleusercontent.com/a-/ALV-UjWlvU3uOZXi_YiMvsvv2OJqoFJfeDErh0nLLjmt9SvJ5KDPDEoU6w=s128-c0x00000000-cc-rp-mo-ba2',\n",
            "                                     'rating': 5,\n",
            "                                     'relative_time_description': '2 months '\n",
            "                                                                  'ago',\n",
            "                                     'text': 'This is great lowkey spot in '\n",
            "                                             'Ktown. They have a great menu '\n",
            "                                             'and the drink options are super '\n",
            "                                             'affordable. They also had a '\n",
            "                                             'really unique desert - soju '\n",
            "                                             'infused bingsu which you have to '\n",
            "                                             'try! Overall this is a great '\n",
            "                                             'place to bring friends for a '\n",
            "                                             'casual meal with a great '\n",
            "                                             'atmosphere and amazing service.',\n",
            "                                     'time': 1719073215,\n",
            "                                     'translated': False},\n",
            "                                 {   'author_name': 'Jira Sai',\n",
            "                                     'author_url': 'https://www.google.com/maps/contrib/112527880794942335605/reviews',\n",
            "                                     'language': 'en',\n",
            "                                     'original_language': 'en',\n",
            "                                     'profile_photo_url': 'https://lh3.googleusercontent.com/a-/ALV-UjX8IeIFeOcCXRgPqwFHQ9iUkJtYbpoN2bQjnZXlseyk7Z5QtioJ=s128-c0x00000000-cc-rp-mo-ba4',\n",
            "                                     'rating': 5,\n",
            "                                     'relative_time_description': '7 months '\n",
            "                                                                  'ago',\n",
            "                                     'text': 'The food was flavorful and the '\n",
            "                                             'vibes was nice for a hangout '\n",
            "                                             'with friends. We were one of the '\n",
            "                                             'few people there tho so I’m not '\n",
            "                                             'sure what it’s like if the place '\n",
            "                                             'is busy. Loved the makgeolli '\n",
            "                                             'drinks they had.\\n'\n",
            "                                             '\\n'\n",
            "                                             'One downside is the blender. It '\n",
            "                                             'was the loudest blender we’ve '\n",
            "                                             'ever heard of and it could '\n",
            "                                             'easily disrupt any conversation '\n",
            "                                             'you have if you sit near the '\n",
            "                                             'bar.',\n",
            "                                     'time': 1705456958,\n",
            "                                     'translated': False},\n",
            "                                 {   'author_name': 'itzelenaho',\n",
            "                                     'author_url': 'https://www.google.com/maps/contrib/113509586302313649295/reviews',\n",
            "                                     'language': 'en',\n",
            "                                     'original_language': 'en',\n",
            "                                     'profile_photo_url': 'https://lh3.googleusercontent.com/a-/ALV-UjWhzXNCkoy48NZai9GKw6U50xrhbQ1QKUkfAINeCoEWtVHByKVI=s128-c0x00000000-cc-rp-mo-ba6',\n",
            "                                     'rating': 5,\n",
            "                                     'relative_time_description': 'a year ago',\n",
            "                                     'text': 'Discovered Manhattan’s first '\n",
            "                                             'soju smoothie with my husband! '\n",
            "                                             'This place got this “you’re '\n",
            "                                             'gonna leave here drunk” vibe '\n",
            "                                             'with incredible hospitality and '\n",
            "                                             'atmosphere. They got a fabulous '\n",
            "                                             'blood sausage with rice cake and '\n",
            "                                             'don’t forget their daily drink '\n",
            "                                             'specials. Definitely a terrific '\n",
            "                                             'experience luring you to come '\n",
            "                                             'back.🥳',\n",
            "                                     'time': 1687574698,\n",
            "                                     'translated': False},\n",
            "                                 {   'author_name': 'ashley choi',\n",
            "                                     'author_url': 'https://www.google.com/maps/contrib/102308227465552851575/reviews',\n",
            "                                     'language': 'en',\n",
            "                                     'original_language': 'en',\n",
            "                                     'profile_photo_url': 'https://lh3.googleusercontent.com/a/ACg8ocL8DWyp9SrF5g4tI7n_tL6epCHiS49vbQXl9mqwpUHvp2CQ-Q=s128-c0x00000000-cc-rp-mo-ba3',\n",
            "                                     'rating': 5,\n",
            "                                     'relative_time_description': '6 months '\n",
            "                                                                  'ago',\n",
            "                                     'text': 'As a Korean girl, I only came '\n",
            "                                             'here because my friends wanted '\n",
            "                                             'to come here. I usually don’t go '\n",
            "                                             'to Korean places, but this place '\n",
            "                                             'was actually pretty good! The '\n",
            "                                             'tteokbuki was cooked right and '\n",
            "                                             'they even gave us an extra one '\n",
            "                                             'as service. In fact, they gave '\n",
            "                                             'us like 2 rounds worth of drinks '\n",
            "                                             'for 8 ppl as service! They had '\n",
            "                                             'such a great time! Shout out to '\n",
            "                                             'John for being so great! Thanks!',\n",
            "                                     'time': 1708725062,\n",
            "                                     'translated': False},\n",
            "                                 {   'author_name': 'Alexia Huang',\n",
            "                                     'author_url': 'https://www.google.com/maps/contrib/109043220285269747197/reviews',\n",
            "                                     'language': 'en',\n",
            "                                     'original_language': 'en',\n",
            "                                     'profile_photo_url': 'https://lh3.googleusercontent.com/a/ACg8ocJM11qf06ZZkVWay0_0xSQBDSQbvy7HL5sStpRCYHEti07yXyg=s128-c0x00000000-cc-rp-mo-ba4',\n",
            "                                     'rating': 5,\n",
            "                                     'relative_time_description': 'a year ago',\n",
            "                                     'text': 'The alcoholic bingsoo a were '\n",
            "                                             'great. Our favorite was the '\n",
            "                                             'mango. We also ordered the '\n",
            "                                             'soondae and tteokbokki were '\n",
            "                                             'spicy and delicious. It was more '\n",
            "                                             'than enough for a late night '\n",
            "                                             'snack for 3 people. The '\n",
            "                                             'atmosphere was great and the '\n",
            "                                             'staff treated us very well even '\n",
            "                                             'when we stayed past closing '\n",
            "                                             'time. Will be back again.',\n",
            "                                     'time': 1690323092,\n",
            "                                     'translated': False}]},\n",
            "    'status': 'OK'}\n"
          ]
        }
      ]
    },
    {
      "cell_type": "code",
      "source": [
        "revs_raw_list = response['result']['reviews']\n",
        "print('Number of reviews: ', len(revs_raw_list))\n",
        "print('Reviews container data type: ', type(revs_raw_list))"
      ],
      "metadata": {
        "colab": {
          "base_uri": "https://localhost:8080/"
        },
        "outputId": "5e1123ff-86bb-44e5-9d41-7bdccb5f675e",
        "id": "zv4Nn76o6MLa"
      },
      "execution_count": null,
      "outputs": [
        {
          "output_type": "stream",
          "name": "stdout",
          "text": [
            "Number of reviews:  5\n",
            "Reviews container data type:  <class 'list'>\n"
          ]
        }
      ]
    },
    {
      "cell_type": "code",
      "source": [
        "# Print the first review\n",
        "print(revs_raw_list[0])"
      ],
      "metadata": {
        "colab": {
          "base_uri": "https://localhost:8080/"
        },
        "outputId": "b94bc110-7e2d-4438-e798-280322efd6e2",
        "id": "G0VYWfTa6MLa"
      },
      "execution_count": null,
      "outputs": [
        {
          "output_type": "stream",
          "name": "stdout",
          "text": [
            "{'author_name': 'Oliver Osei-Asibey (Oliver O.A.)', 'author_url': 'https://www.google.com/maps/contrib/111863978551838354937/reviews', 'language': 'en', 'original_language': 'en', 'profile_photo_url': 'https://lh3.googleusercontent.com/a-/ALV-UjWlvU3uOZXi_YiMvsvv2OJqoFJfeDErh0nLLjmt9SvJ5KDPDEoU6w=s128-c0x00000000-cc-rp-mo-ba2', 'rating': 5, 'relative_time_description': '2 months ago', 'text': 'This is great lowkey spot in Ktown. They have a great menu and the drink options are super affordable. They also had a really unique desert - soju infused bingsu which you have to try! Overall this is a great place to bring friends for a casual meal with a great atmosphere and amazing service.', 'time': 1719073215, 'translated': False}\n"
          ]
        }
      ]
    },
    {
      "cell_type": "markdown",
      "source": [
        "## Scraping"
      ],
      "metadata": {
        "id": "IfDQuBU26MLa"
      }
    },
    {
      "cell_type": "code",
      "source": [
        "revs_scraped_dict = {}\n",
        "for i in range(len(revs_raw_list)):\n",
        "    try:\n",
        "        rev = revs_raw_list[i]\n",
        "        if rev['language'] != 'en':\n",
        "            continue\n",
        "        rating = rev['rating']\n",
        "        text = rev['text']\n",
        "        this_dict = {\n",
        "            'rating' : rating,\n",
        "            'text' : text\n",
        "        }\n",
        "        revs_scraped_dict[i] = this_dict\n",
        "    except:\n",
        "        print(f'Broke for review number {i}')"
      ],
      "metadata": {
        "id": "UVTMWqu86MLa"
      },
      "execution_count": null,
      "outputs": []
    },
    {
      "cell_type": "code",
      "source": [
        "revs_scraped = pd.DataFrame(revs_scraped_dict).T"
      ],
      "metadata": {
        "id": "oNhgHGbn6MLa"
      },
      "execution_count": null,
      "outputs": []
    },
    {
      "cell_type": "code",
      "source": [
        "revs_scraped.head()"
      ],
      "metadata": {
        "colab": {
          "base_uri": "https://localhost:8080/",
          "height": 206
        },
        "outputId": "c5a72404-2fc2-4e8b-b3b1-b6e4067ba50b",
        "id": "MztueaBE6MLa"
      },
      "execution_count": null,
      "outputs": [
        {
          "output_type": "execute_result",
          "data": {
            "text/plain": [
              "  rating                                               text\n",
              "0      5  This is great lowkey spot in Ktown. They have ...\n",
              "1      5  The food was flavorful and the vibes was nice ...\n",
              "2      5  Discovered Manhattan’s first soju smoothie wit...\n",
              "3      5  As a Korean girl, I only came here because my ...\n",
              "4      5  The alcoholic bingsoo a were great. Our favori..."
            ],
            "text/html": [
              "\n",
              "  <div id=\"df-4dd49b91-a967-4bec-a21c-9e0472e8c5a8\" class=\"colab-df-container\">\n",
              "    <div>\n",
              "<style scoped>\n",
              "    .dataframe tbody tr th:only-of-type {\n",
              "        vertical-align: middle;\n",
              "    }\n",
              "\n",
              "    .dataframe tbody tr th {\n",
              "        vertical-align: top;\n",
              "    }\n",
              "\n",
              "    .dataframe thead th {\n",
              "        text-align: right;\n",
              "    }\n",
              "</style>\n",
              "<table border=\"1\" class=\"dataframe\">\n",
              "  <thead>\n",
              "    <tr style=\"text-align: right;\">\n",
              "      <th></th>\n",
              "      <th>rating</th>\n",
              "      <th>text</th>\n",
              "    </tr>\n",
              "  </thead>\n",
              "  <tbody>\n",
              "    <tr>\n",
              "      <th>0</th>\n",
              "      <td>5</td>\n",
              "      <td>This is great lowkey spot in Ktown. They have ...</td>\n",
              "    </tr>\n",
              "    <tr>\n",
              "      <th>1</th>\n",
              "      <td>5</td>\n",
              "      <td>The food was flavorful and the vibes was nice ...</td>\n",
              "    </tr>\n",
              "    <tr>\n",
              "      <th>2</th>\n",
              "      <td>5</td>\n",
              "      <td>Discovered Manhattan’s first soju smoothie wit...</td>\n",
              "    </tr>\n",
              "    <tr>\n",
              "      <th>3</th>\n",
              "      <td>5</td>\n",
              "      <td>As a Korean girl, I only came here because my ...</td>\n",
              "    </tr>\n",
              "    <tr>\n",
              "      <th>4</th>\n",
              "      <td>5</td>\n",
              "      <td>The alcoholic bingsoo a were great. Our favori...</td>\n",
              "    </tr>\n",
              "  </tbody>\n",
              "</table>\n",
              "</div>\n",
              "    <div class=\"colab-df-buttons\">\n",
              "\n",
              "  <div class=\"colab-df-container\">\n",
              "    <button class=\"colab-df-convert\" onclick=\"convertToInteractive('df-4dd49b91-a967-4bec-a21c-9e0472e8c5a8')\"\n",
              "            title=\"Convert this dataframe to an interactive table.\"\n",
              "            style=\"display:none;\">\n",
              "\n",
              "  <svg xmlns=\"http://www.w3.org/2000/svg\" height=\"24px\" viewBox=\"0 -960 960 960\">\n",
              "    <path d=\"M120-120v-720h720v720H120Zm60-500h600v-160H180v160Zm220 220h160v-160H400v160Zm0 220h160v-160H400v160ZM180-400h160v-160H180v160Zm440 0h160v-160H620v160ZM180-180h160v-160H180v160Zm440 0h160v-160H620v160Z\"/>\n",
              "  </svg>\n",
              "    </button>\n",
              "\n",
              "  <style>\n",
              "    .colab-df-container {\n",
              "      display:flex;\n",
              "      gap: 12px;\n",
              "    }\n",
              "\n",
              "    .colab-df-convert {\n",
              "      background-color: #E8F0FE;\n",
              "      border: none;\n",
              "      border-radius: 50%;\n",
              "      cursor: pointer;\n",
              "      display: none;\n",
              "      fill: #1967D2;\n",
              "      height: 32px;\n",
              "      padding: 0 0 0 0;\n",
              "      width: 32px;\n",
              "    }\n",
              "\n",
              "    .colab-df-convert:hover {\n",
              "      background-color: #E2EBFA;\n",
              "      box-shadow: 0px 1px 2px rgba(60, 64, 67, 0.3), 0px 1px 3px 1px rgba(60, 64, 67, 0.15);\n",
              "      fill: #174EA6;\n",
              "    }\n",
              "\n",
              "    .colab-df-buttons div {\n",
              "      margin-bottom: 4px;\n",
              "    }\n",
              "\n",
              "    [theme=dark] .colab-df-convert {\n",
              "      background-color: #3B4455;\n",
              "      fill: #D2E3FC;\n",
              "    }\n",
              "\n",
              "    [theme=dark] .colab-df-convert:hover {\n",
              "      background-color: #434B5C;\n",
              "      box-shadow: 0px 1px 3px 1px rgba(0, 0, 0, 0.15);\n",
              "      filter: drop-shadow(0px 1px 2px rgba(0, 0, 0, 0.3));\n",
              "      fill: #FFFFFF;\n",
              "    }\n",
              "  </style>\n",
              "\n",
              "    <script>\n",
              "      const buttonEl =\n",
              "        document.querySelector('#df-4dd49b91-a967-4bec-a21c-9e0472e8c5a8 button.colab-df-convert');\n",
              "      buttonEl.style.display =\n",
              "        google.colab.kernel.accessAllowed ? 'block' : 'none';\n",
              "\n",
              "      async function convertToInteractive(key) {\n",
              "        const element = document.querySelector('#df-4dd49b91-a967-4bec-a21c-9e0472e8c5a8');\n",
              "        const dataTable =\n",
              "          await google.colab.kernel.invokeFunction('convertToInteractive',\n",
              "                                                    [key], {});\n",
              "        if (!dataTable) return;\n",
              "\n",
              "        const docLinkHtml = 'Like what you see? Visit the ' +\n",
              "          '<a target=\"_blank\" href=https://colab.research.google.com/notebooks/data_table.ipynb>data table notebook</a>'\n",
              "          + ' to learn more about interactive tables.';\n",
              "        element.innerHTML = '';\n",
              "        dataTable['output_type'] = 'display_data';\n",
              "        await google.colab.output.renderOutput(dataTable, element);\n",
              "        const docLink = document.createElement('div');\n",
              "        docLink.innerHTML = docLinkHtml;\n",
              "        element.appendChild(docLink);\n",
              "      }\n",
              "    </script>\n",
              "  </div>\n",
              "\n",
              "\n",
              "<div id=\"df-2504dda1-f5f1-4a9f-a227-581bfd3866f2\">\n",
              "  <button class=\"colab-df-quickchart\" onclick=\"quickchart('df-2504dda1-f5f1-4a9f-a227-581bfd3866f2')\"\n",
              "            title=\"Suggest charts\"\n",
              "            style=\"display:none;\">\n",
              "\n",
              "<svg xmlns=\"http://www.w3.org/2000/svg\" height=\"24px\"viewBox=\"0 0 24 24\"\n",
              "     width=\"24px\">\n",
              "    <g>\n",
              "        <path d=\"M19 3H5c-1.1 0-2 .9-2 2v14c0 1.1.9 2 2 2h14c1.1 0 2-.9 2-2V5c0-1.1-.9-2-2-2zM9 17H7v-7h2v7zm4 0h-2V7h2v10zm4 0h-2v-4h2v4z\"/>\n",
              "    </g>\n",
              "</svg>\n",
              "  </button>\n",
              "\n",
              "<style>\n",
              "  .colab-df-quickchart {\n",
              "      --bg-color: #E8F0FE;\n",
              "      --fill-color: #1967D2;\n",
              "      --hover-bg-color: #E2EBFA;\n",
              "      --hover-fill-color: #174EA6;\n",
              "      --disabled-fill-color: #AAA;\n",
              "      --disabled-bg-color: #DDD;\n",
              "  }\n",
              "\n",
              "  [theme=dark] .colab-df-quickchart {\n",
              "      --bg-color: #3B4455;\n",
              "      --fill-color: #D2E3FC;\n",
              "      --hover-bg-color: #434B5C;\n",
              "      --hover-fill-color: #FFFFFF;\n",
              "      --disabled-bg-color: #3B4455;\n",
              "      --disabled-fill-color: #666;\n",
              "  }\n",
              "\n",
              "  .colab-df-quickchart {\n",
              "    background-color: var(--bg-color);\n",
              "    border: none;\n",
              "    border-radius: 50%;\n",
              "    cursor: pointer;\n",
              "    display: none;\n",
              "    fill: var(--fill-color);\n",
              "    height: 32px;\n",
              "    padding: 0;\n",
              "    width: 32px;\n",
              "  }\n",
              "\n",
              "  .colab-df-quickchart:hover {\n",
              "    background-color: var(--hover-bg-color);\n",
              "    box-shadow: 0 1px 2px rgba(60, 64, 67, 0.3), 0 1px 3px 1px rgba(60, 64, 67, 0.15);\n",
              "    fill: var(--button-hover-fill-color);\n",
              "  }\n",
              "\n",
              "  .colab-df-quickchart-complete:disabled,\n",
              "  .colab-df-quickchart-complete:disabled:hover {\n",
              "    background-color: var(--disabled-bg-color);\n",
              "    fill: var(--disabled-fill-color);\n",
              "    box-shadow: none;\n",
              "  }\n",
              "\n",
              "  .colab-df-spinner {\n",
              "    border: 2px solid var(--fill-color);\n",
              "    border-color: transparent;\n",
              "    border-bottom-color: var(--fill-color);\n",
              "    animation:\n",
              "      spin 1s steps(1) infinite;\n",
              "  }\n",
              "\n",
              "  @keyframes spin {\n",
              "    0% {\n",
              "      border-color: transparent;\n",
              "      border-bottom-color: var(--fill-color);\n",
              "      border-left-color: var(--fill-color);\n",
              "    }\n",
              "    20% {\n",
              "      border-color: transparent;\n",
              "      border-left-color: var(--fill-color);\n",
              "      border-top-color: var(--fill-color);\n",
              "    }\n",
              "    30% {\n",
              "      border-color: transparent;\n",
              "      border-left-color: var(--fill-color);\n",
              "      border-top-color: var(--fill-color);\n",
              "      border-right-color: var(--fill-color);\n",
              "    }\n",
              "    40% {\n",
              "      border-color: transparent;\n",
              "      border-right-color: var(--fill-color);\n",
              "      border-top-color: var(--fill-color);\n",
              "    }\n",
              "    60% {\n",
              "      border-color: transparent;\n",
              "      border-right-color: var(--fill-color);\n",
              "    }\n",
              "    80% {\n",
              "      border-color: transparent;\n",
              "      border-right-color: var(--fill-color);\n",
              "      border-bottom-color: var(--fill-color);\n",
              "    }\n",
              "    90% {\n",
              "      border-color: transparent;\n",
              "      border-bottom-color: var(--fill-color);\n",
              "    }\n",
              "  }\n",
              "</style>\n",
              "\n",
              "  <script>\n",
              "    async function quickchart(key) {\n",
              "      const quickchartButtonEl =\n",
              "        document.querySelector('#' + key + ' button');\n",
              "      quickchartButtonEl.disabled = true;  // To prevent multiple clicks.\n",
              "      quickchartButtonEl.classList.add('colab-df-spinner');\n",
              "      try {\n",
              "        const charts = await google.colab.kernel.invokeFunction(\n",
              "            'suggestCharts', [key], {});\n",
              "      } catch (error) {\n",
              "        console.error('Error during call to suggestCharts:', error);\n",
              "      }\n",
              "      quickchartButtonEl.classList.remove('colab-df-spinner');\n",
              "      quickchartButtonEl.classList.add('colab-df-quickchart-complete');\n",
              "    }\n",
              "    (() => {\n",
              "      let quickchartButtonEl =\n",
              "        document.querySelector('#df-2504dda1-f5f1-4a9f-a227-581bfd3866f2 button');\n",
              "      quickchartButtonEl.style.display =\n",
              "        google.colab.kernel.accessAllowed ? 'block' : 'none';\n",
              "    })();\n",
              "  </script>\n",
              "</div>\n",
              "\n",
              "    </div>\n",
              "  </div>\n"
            ],
            "application/vnd.google.colaboratory.intrinsic+json": {
              "type": "dataframe",
              "variable_name": "revs_scraped",
              "summary": "{\n  \"name\": \"revs_scraped\",\n  \"rows\": 5,\n  \"fields\": [\n    {\n      \"column\": \"rating\",\n      \"properties\": {\n        \"dtype\": \"date\",\n        \"min\": 5,\n        \"max\": 5,\n        \"num_unique_values\": 1,\n        \"samples\": [\n          5\n        ],\n        \"semantic_type\": \"\",\n        \"description\": \"\"\n      }\n    },\n    {\n      \"column\": \"text\",\n      \"properties\": {\n        \"dtype\": \"string\",\n        \"num_unique_values\": 5,\n        \"samples\": [\n          \"The food was flavorful and the vibes was nice for a hangout with friends. We were one of the few people there tho so I\\u2019m not sure what it\\u2019s like if the place is busy. Loved the makgeolli drinks they had.\\n\\nOne downside is the blender. It was the loudest blender we\\u2019ve ever heard of and it could easily disrupt any conversation you have if you sit near the bar.\"\n        ],\n        \"semantic_type\": \"\",\n        \"description\": \"\"\n      }\n    }\n  ]\n}"
            }
          },
          "metadata": {},
          "execution_count": 15
        }
      ]
    },
    {
      "cell_type": "code",
      "source": [
        "revs_scraped.to_csv('/data/raw/bangia_reviews.csv',header = True)"
      ],
      "metadata": {
        "id": "_QI7ElkE6MLb"
      },
      "execution_count": null,
      "outputs": []
    }
  ]
}